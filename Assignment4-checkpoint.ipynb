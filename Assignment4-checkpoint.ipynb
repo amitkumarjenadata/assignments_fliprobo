{
 "cells": [
  {
   "cell_type": "markdown",
   "metadata": {},
   "source": [
    "# Using various optimizers,callbacks,learning rates"
   ]
  },
  {
   "cell_type": "code",
   "execution_count": 1,
   "metadata": {},
   "outputs": [],
   "source": [
    "#importing libraries\n",
    "import numpy as np\n",
    "import cv2\n",
    "import os\n",
    "import shutil"
   ]
  },
  {
   "cell_type": "code",
   "execution_count": 2,
   "metadata": {},
   "outputs": [
    {
     "name": "stdout",
     "output_type": "stream",
     "text": [
      "471images loaded\n"
     ]
    }
   ],
   "source": [
    "from os import listdir\n",
    "from os.path import isfile,join\n",
    "\n",
    "mypath=\"C:\\\\Users\\\\mt110\\\\data3\"\n",
    "file_names=[f for f in listdir(mypath)if isfile(join(mypath,f))]\n",
    "print(str(len(file_names))+'images loaded')"
   ]
  },
  {
   "cell_type": "code",
   "execution_count": 3,
   "metadata": {},
   "outputs": [],
   "source": [
    "\n",
    "import cv2\n",
    "import numpy as np\n",
    "import sys\n",
    "import os\n",
    "import shutil\n",
    "shirts_count=0\n",
    "tshirts_count=0\n",
    "sarees_count=0\n",
    "training_size=100\n",
    "test_size=30\n",
    "training_images=[]\n",
    "training_labels=[]\n",
    "test_images=[]\n",
    "test_labels=[]\n",
    "size=150\n",
    "shirts_dir_train=\".\\data\\Train\\Amazon_men_shirts\"\n",
    "tshirts_dir_train=\".\\data\\Train\\Amazon_men_Tshirts\"\n",
    "sarees_dir_train=\".\\data\\Train\\Amazon_women_sarees\"\n",
    "shirts_dir_val=\".\\data\\Validation\\Amazon_men_shirts\"\n",
    "tshirts_dir_val=\".\\data\\Validation\\Amazon_men_Tshirts\"\n",
    "sarees_dir_val=\".\\data\\Validation\\Amazon_women_sarees\"\n",
    "def make_dir(directory):\n",
    "    if os.path.exists(directory):\n",
    "        shutil.rmtree(directory)\n",
    "    os.makedirs(directory)\n",
    "make_dir(shirts_dir_train)\n",
    "make_dir(tshirts_dir_train)\n",
    "make_dir(sarees_dir_train)\n",
    "make_dir(shirts_dir_val)\n",
    "make_dir(tshirts_dir_val)\n",
    "make_dir(sarees_dir_val)\n",
    "def getzeros(number):\n",
    "    if (number> 10 and number<400):\n",
    "        return \"0\"\n",
    "    if (number<10):\n",
    "        return \"00\"\n",
    "    else :\n",
    "        return \"\"\n",
    "for i ,file in enumerate(file_names):\n",
    "    if file_names[i][0]==\"i\":\n",
    "        shirts_count+=1\n",
    "        image=cv2.imread(\"C:\\\\Users\\\\mt110\\\\data3\\\\\"+file)\n",
    "        image=cv2.resize(image,(150,150),cv2.INTER_AREA)\n",
    "        if shirts_count<=training_size:\n",
    "            training_images.append(image)\n",
    "            training_labels.append(1)\n",
    "            zeros=getzeros(shirts_count)\n",
    "            cv2.imwrite(shirts_dir_train+\"shirts\"+str(zeros)+str(shirts_count)+\".jpg\",image)\n",
    "        if shirts_count>training_size and shirts_count<=training_size+test_size:\n",
    "            test_images.append(image)\n",
    "            test_labels.append(1)\n",
    "            zeros=getzeros(shirts_count-400)\n",
    "            cv2.imwrite(shirts_dir_val+\"shirts\"+str(zeros)+str(shirts_count)+\".jpg\",image)\n",
    "    if file_names[i][0]==\"t\":\n",
    "            tshirts_count+=1\n",
    "            image=cv2.imread(\"C:\\\\Users\\\\mt110\\\\data3\\\\\"+file)\n",
    "            image=cv2.resize(image,(150,150),cv2.INTER_AREA)\n",
    "            if tshirts_count<=training_size:\n",
    "                training_images.append(image)\n",
    "                training_labels.append(1)\n",
    "                zeros=getzeros(tshirts_count)\n",
    "                cv2.imwrite(tshirts_dir_train+\"tshirts\"+str(zeros)+str(tshirts_count)+\".jpg\",image)\n",
    "            if tshirts_count>training_size and tshirts_count<=training_size+test_size:\n",
    "                test_images.append(image)\n",
    "                test_labels.append(1)\n",
    "                zeros=getzeros(tshirts_count-400)\n",
    "            cv2.imwrite(tshirts_dir_val+\"tshirts\"+str(zeros)+str(tshirts_count)+\".jpg\",image)\n",
    "    if file_names[i][0]==\"a\":\n",
    "        sarees_count+=1\n",
    "        image=cv2.imread(\"C:\\\\Users\\\\mt110\\\\data3\\\\\"+file)\n",
    "        image=cv2.resize(image,(150,150),cv2.INTER_AREA)\n",
    "        if sarees_count<=training_size:\n",
    "            training_images.append(image)\n",
    "            training_labels.append(1)\n",
    "            zeros=getzeros(shirts_count)\n",
    "            cv2.imwrite(sarees_dir_train+\"sarees\"+str(zeros)+str(sarees_count)+\".jpg\",image)\n",
    "        if sarees_count>training_size and sarees_count<=training_size+test_size:\n",
    "            test_images.append(image)\n",
    "            test_labels.append(1)\n",
    "            zeros=getzeros(shirts_count-400)\n",
    "            cv2.imwrite(sarees_dir_val+\"sarees\"+str(zeros)+str(sarees_count)+\".jpg\",image)\n",
    "    if shirts_count==training_size+test_size and tshirts_count==training_size+test_size and sarees_count==training_size+test_size:\n",
    "        break\n"
   ]
  },
  {
   "cell_type": "code",
   "execution_count": 4,
   "metadata": {},
   "outputs": [],
   "source": [
    "#save our loaded data as npz files\n",
    "np.savez(\"Amazon_training_data.npz\",np.array(training_images))\n",
    "np.savez(\"Amazon_training_labels.npz\",np.array(training_labels))\n",
    "np.savez(\"Amazon_test_data.npz\",np.array(test_images))\n",
    "np.savez(\"Amazon_test_labels.npz\",np.array(test_labels))"
   ]
  },
  {
   "cell_type": "code",
   "execution_count": 5,
   "metadata": {},
   "outputs": [],
   "source": [
    "import numpy as np\n",
    "\n",
    "def load_data(datasetname):\n",
    "    npzfile=np.load(\"Amazon_training_data.npz\")\n",
    "    train=npzfile['arr_0']\n",
    "    \n",
    "    npzfile=np.load(\"Amazon_training_labels.npz\")\n",
    "    train_labels=npzfile['arr_0']\n",
    "    \n",
    "    npzfile=np.load(\"Amazon_test_data.npz\")\n",
    "    test=npzfile['arr_0']\n",
    "    \n",
    "    npzfile=np.load(\"Amazon_test_labels.npz\")\n",
    "    test_labels=npzfile['arr_0']\n",
    "    return (train,train_labels),(test,test_labels)  "
   ]
  },
  {
   "cell_type": "code",
   "execution_count": 6,
   "metadata": {},
   "outputs": [
    {
     "name": "stdout",
     "output_type": "stream",
     "text": [
      "(200, 150, 150, 3)\n",
      "(200, 1)\n",
      "(60, 150, 150, 3)\n",
      "(60, 1)\n"
     ]
    }
   ],
   "source": [
    "#make format that accepted by Keras\n",
    "(x_train,y_train),(x_test,y_test)=load_data('Amazon')\n",
    "y_train=y_train.reshape(y_train.shape[0],1)\n",
    "y_test=y_test.reshape(y_test.shape[0],1)\n",
    "\n",
    "x_train=x_train.astype('float32')\n",
    "x_test=x_test.astype('float32')\n",
    "\n",
    "x_train /= 255\n",
    "x_test /= 255\n",
    "\n",
    "print(x_train.shape)\n",
    "print(y_train.shape)\n",
    "print(x_test.shape)\n",
    "print(y_test.shape)"
   ]
  },
  {
   "cell_type": "code",
   "execution_count": 7,
   "metadata": {},
   "outputs": [],
   "source": [
    "#build a model\n",
    "#importing the libraries\n",
    "\n",
    "from __future__ import print_function\n",
    "import tensorflow as tf\n",
    "from tensorflow import keras\n",
    "from tensorflow.keras.models import Sequential\n",
    "from tensorflow.keras.layers import Dense,Dropout,Activation,Flatten,Conv2D,MaxPooling2D\n",
    "from tensorflow.keras.utils import plot_model"
   ]
  },
  {
   "cell_type": "code",
   "execution_count": 8,
   "metadata": {},
   "outputs": [],
   "source": [
    "img_rows=x_train[0].shape[0]\n",
    "img_cols=x_train[1].shape[0]\n",
    "input_shape=(img_rows,img_cols,3)\n",
    "\n",
    "batch_size=32\n",
    "epochs=20"
   ]
  },
  {
   "cell_type": "code",
   "execution_count": 9,
   "metadata": {},
   "outputs": [
    {
     "name": "stdout",
     "output_type": "stream",
     "text": [
      "WARNING:tensorflow:From C:\\Users\\mt110\\anaconda3\\envs\\tensorflow\\lib\\site-packages\\tensorflow_core\\python\\ops\\resource_variable_ops.py:1630: calling BaseResourceVariable.__init__ (from tensorflow.python.ops.resource_variable_ops) with constraint is deprecated and will be removed in a future version.\n",
      "Instructions for updating:\n",
      "If using Keras pass *_constraint arguments to layers.\n",
      "Model: \"sequential\"\n",
      "_________________________________________________________________\n",
      "Layer (type)                 Output Shape              Param #   \n",
      "=================================================================\n",
      "conv2d (Conv2D)              (None, 148, 148, 32)      896       \n",
      "_________________________________________________________________\n",
      "max_pooling2d (MaxPooling2D) (None, 74, 74, 32)        0         \n",
      "_________________________________________________________________\n",
      "dropout (Dropout)            (None, 74, 74, 32)        0         \n",
      "_________________________________________________________________\n",
      "conv2d_1 (Conv2D)            (None, 72, 72, 32)        9248      \n",
      "_________________________________________________________________\n",
      "max_pooling2d_1 (MaxPooling2 (None, 36, 36, 32)        0         \n",
      "_________________________________________________________________\n",
      "dropout_1 (Dropout)          (None, 36, 36, 32)        0         \n",
      "_________________________________________________________________\n",
      "conv2d_2 (Conv2D)            (None, 34, 34, 64)        18496     \n",
      "_________________________________________________________________\n",
      "max_pooling2d_2 (MaxPooling2 (None, 17, 17, 64)        0         \n",
      "_________________________________________________________________\n",
      "dropout_2 (Dropout)          (None, 17, 17, 64)        0         \n",
      "_________________________________________________________________\n",
      "conv2d_3 (Conv2D)            (None, 15, 15, 64)        36928     \n",
      "_________________________________________________________________\n",
      "max_pooling2d_3 (MaxPooling2 (None, 7, 7, 64)          0         \n",
      "_________________________________________________________________\n",
      "dropout_3 (Dropout)          (None, 7, 7, 64)          0         \n",
      "_________________________________________________________________\n",
      "flatten (Flatten)            (None, 3136)              0         \n",
      "_________________________________________________________________\n",
      "dense (Dense)                (None, 128)               401536    \n",
      "_________________________________________________________________\n",
      "dropout_4 (Dropout)          (None, 128)               0         \n",
      "_________________________________________________________________\n",
      "dense_1 (Dense)              (None, 3)                 387       \n",
      "=================================================================\n",
      "Total params: 467,491\n",
      "Trainable params: 467,491\n",
      "Non-trainable params: 0\n",
      "_________________________________________________________________\n",
      "None\n"
     ]
    }
   ],
   "source": [
    "model=Sequential()\n",
    "\n",
    "model.add(Conv2D(32,(3,3),input_shape=input_shape,activation='relu'))\n",
    "model.add(MaxPooling2D(pool_size=(2,2)))\n",
    "model.add(Dropout(0.2))\n",
    "\n",
    "model.add(Conv2D(32,(3,3),activation='relu'))\n",
    "model.add(MaxPooling2D(pool_size=(2,2)))\n",
    "model.add(Dropout(0.2))\n",
    "\n",
    "model.add(Conv2D(64,(3,3),activation='relu'))\n",
    "model.add(MaxPooling2D(pool_size=(2,2)))\n",
    "model.add(Dropout(0.2))\n",
    "\n",
    "model.add(Conv2D(64,(3,3),activation='relu'))\n",
    "model.add(MaxPooling2D(pool_size=(2,2)))\n",
    "model.add(Dropout(0.2))\n",
    "    \n",
    "model.add(Flatten())\n",
    "model.add(Dense(128,activation='relu'))\n",
    "model.add(Dropout(0.2))\n",
    "model.add(Dense(3,activation='softmax'))\n",
    "    \n",
    "print(model.summary())"
   ]
  },
  {
   "cell_type": "code",
   "execution_count": 10,
   "metadata": {},
   "outputs": [],
   "source": [
    "import pydotplus"
   ]
  },
  {
   "cell_type": "code",
   "execution_count": 11,
   "metadata": {},
   "outputs": [
    {
     "data": {
      "image/png": "[encoded data removed]",
      "text/plain": [
       "<IPython.core.display.Image object>"
      ]
     },
     "execution_count": 11,
     "metadata": {},
     "output_type": "execute_result"
    }
   ],
   "source": [
    "import os\n",
    "os.environ[\"PATH\"] += os.pathsep + 'C:\\Program Files (x86)\\Graphviz2.38/bin/'\n",
    "\n",
    "plot_model(model,show_shapes=True,show_layer_names=True)"
   ]
  },
  {
   "cell_type": "code",
   "execution_count": 12,
   "metadata": {},
   "outputs": [],
   "source": [
    "from tensorflow.keras.optimizers import Adam\n",
    "model.compile(loss='sparse_categorical_crossentropy',\n",
    "              optimizer=Adam(lr=0.001),\n",
    "              metrics=['accuracy'])"
   ]
  },
  {
   "cell_type": "code",
   "execution_count": 13,
   "metadata": {},
   "outputs": [],
   "source": [
    "from tensorflow.keras.callbacks import ModelCheckpoint\n",
    "from tensorflow.keras.callbacks import EarlyStopping\n",
    "from tensorflow.keras.callbacks import ReduceLROnPlateau"
   ]
  },
  {
   "cell_type": "code",
   "execution_count": 19,
   "metadata": {},
   "outputs": [],
   "source": [
    "checkpoint=ModelCheckpoint(\"C:\\\\Users\\\\mt110\\\\ipynb\\\\amazonscrappedimages.h5\",\n",
    "                        monitor='val_loss',mode='min',\n",
    "                        save_best_only=True,\n",
    "                        verbose=1)\n",
    "earlystop=EarlyStopping(monitor='val_loss',\n",
    "                        patience=3,\n",
    "                        verbose=1)\n",
    "reduce_lr=ReduceLROnPlateau(monitor='val_loss',min_delta=0.0001,\n",
    "                        factor=0.2,\n",
    "                        patience=3,\n",
    "                        verbose=1)\n",
    "\n",
    "callbacks=[checkpoint,earlystop,reduce_lr]"
   ]
  },
  {
   "cell_type": "code",
   "execution_count": 20,
   "metadata": {},
   "outputs": [
    {
     "name": "stdout",
     "output_type": "stream",
     "text": [
      "Train on 200 samples, validate on 60 samples\n",
      "Epoch 1/20\n",
      "192/200 [===========================>..] - ETA: 0s - loss: 0.0000e+00 - acc: 1.0000\n",
      "Epoch 00001: val_loss improved from inf to 0.00000, saving model to C:\\Users\\mt110\\ipynb\\amazonscrappedimages.h5\n",
      "200/200 [==============================] - 8s 41ms/sample - loss: 0.0000e+00 - acc: 1.0000 - val_loss: 0.0000e+00 - val_acc: 1.0000\n",
      "Epoch 2/20\n",
      "192/200 [===========================>..] - ETA: 0s - loss: 0.0000e+00 - acc: 1.0000\n",
      "Epoch 00002: val_loss did not improve from 0.00000\n",
      "200/200 [==============================] - 9s 43ms/sample - loss: 0.0000e+00 - acc: 1.0000 - val_loss: 0.0000e+00 - val_acc: 1.0000\n",
      "Epoch 3/20\n",
      "192/200 [===========================>..] - ETA: 0s - loss: 0.0000e+00 - acc: 1.0000\n",
      "Epoch 00003: val_loss did not improve from 0.00000\n",
      "200/200 [==============================] - 11s 55ms/sample - loss: 0.0000e+00 - acc: 1.0000 - val_loss: 0.0000e+00 - val_acc: 1.0000\n",
      "Epoch 4/20\n",
      "192/200 [===========================>..] - ETA: 0s - loss: 0.0000e+00 - acc: 1.0000\n",
      "Epoch 00004: val_loss did not improve from 0.00000\n",
      "\n",
      "Epoch 00004: ReduceLROnPlateau reducing learning rate to 0.00020000000949949026.\n",
      "200/200 [==============================] - 9s 46ms/sample - loss: 0.0000e+00 - acc: 1.0000 - val_loss: 0.0000e+00 - val_acc: 1.0000\n",
      "Epoch 00004: early stopping\n",
      "60/60 [==============================] - 1s 10ms/sample - loss: 0.0000e+00 - acc: 1.0000\n",
      "Test loss: 0.0\n",
      "Test Accuracy: 1.0\n"
     ]
    }
   ],
   "source": [
    "history=model.fit(x_train,y_train,\n",
    "            batch_size=batch_size,\n",
    "            epochs=epochs,\n",
    "            validation_data=(x_test,y_test),\n",
    "            callbacks=callbacks,\n",
    "            shuffle=True)\n",
    "\n",
    "scores=model.evaluate(x_test,y_test,verbose=1)\n",
    "print('Test loss:',scores[0])\n",
    "print('Test Accuracy:',scores[1])\n",
    "\n",
    "model.save('Amazon_preTest_augmentation')"
   ]
  },
  {
   "cell_type": "code",
   "execution_count": 21,
   "metadata": {},
   "outputs": [],
   "source": [
    "from tensorflow.keras.optimizers import Adam\n",
    "model.compile(loss='sparse_categorical_crossentropy',\n",
    "              optimizer=Adam(lr=0.001),\n",
    "              metrics=['accuracy'])"
   ]
  },
  {
   "cell_type": "code",
   "execution_count": 18,
   "metadata": {},
   "outputs": [],
   "source": [
    "from tensorflow.keras.callbacks import ModelCheckpoint\n",
    "from tensorflow.keras.callbacks import EarlyStopping\n",
    "from tensorflow.keras.callbacks import ReduceLROnPlateau"
   ]
  },
  {
   "cell_type": "code",
   "execution_count": 22,
   "metadata": {},
   "outputs": [],
   "source": [
    "checkpoint=ModelCheckpoint(\"C:\\\\Users\\\\mt110\\\\ipynb\\\\amazonadamscrappedimages.h5\",\n",
    "                        monitor='val_loss',mode='min',\n",
    "                        save_best_only=True,\n",
    "                        verbose=1)\n",
    "earlystop=EarlyStopping(monitor='val_loss',\n",
    "                        patience=3,\n",
    "                        verbose=1)\n",
    "reduce_lr=ReduceLROnPlateau(monitor='val_loss',min_delta=0.0001,\n",
    "                        factor=0.2,\n",
    "                        patience=3,\n",
    "                        verbose=1)\n",
    "\n",
    "callbacks=[checkpoint,earlystop,reduce_lr]"
   ]
  },
  {
   "cell_type": "code",
   "execution_count": 23,
   "metadata": {},
   "outputs": [
    {
     "name": "stdout",
     "output_type": "stream",
     "text": [
      "Train on 200 samples, validate on 60 samples\n",
      "Epoch 1/20\n",
      "192/200 [===========================>..] - ETA: 0s - loss: 0.0000e+00 - acc: 1.0000\n",
      "Epoch 00001: val_loss improved from inf to 0.00000, saving model to C:\\Users\\mt110\\ipynb\\amazonadamscrappedimages.h5\n",
      "200/200 [==============================] - 9s 46ms/sample - loss: 0.0000e+00 - acc: 1.0000 - val_loss: 0.0000e+00 - val_acc: 1.0000\n",
      "Epoch 2/20\n",
      "192/200 [===========================>..] - ETA: 0s - loss: 0.0000e+00 - acc: 1.0000\n",
      "Epoch 00002: val_loss did not improve from 0.00000\n",
      "200/200 [==============================] - 10s 50ms/sample - loss: 0.0000e+00 - acc: 1.0000 - val_loss: 0.0000e+00 - val_acc: 1.0000\n",
      "Epoch 3/20\n",
      "192/200 [===========================>..] - ETA: 0s - loss: 0.0000e+00 - acc: 1.0000\n",
      "Epoch 00003: val_loss did not improve from 0.00000\n",
      "200/200 [==============================] - 9s 47ms/sample - loss: 0.0000e+00 - acc: 1.0000 - val_loss: 0.0000e+00 - val_acc: 1.0000\n",
      "Epoch 4/20\n",
      "192/200 [===========================>..] - ETA: 0s - loss: 0.0000e+00 - acc: 1.0000\n",
      "Epoch 00004: val_loss did not improve from 0.00000\n",
      "\n",
      "Epoch 00004: ReduceLROnPlateau reducing learning rate to 0.00020000000949949026.\n",
      "200/200 [==============================] - 9s 47ms/sample - loss: 0.0000e+00 - acc: 1.0000 - val_loss: 0.0000e+00 - val_acc: 1.0000\n",
      "Epoch 00004: early stopping\n",
      "60/60 [==============================] - 1s 9ms/sample - loss: 0.0000e+00 - acc: 1.0000\n",
      "Test loss: 0.0\n",
      "Test Accuracy: 1.0\n"
     ]
    }
   ],
   "source": [
    "history=model.fit(x_train,y_train,\n",
    "            batch_size=batch_size,\n",
    "            epochs=epochs,\n",
    "            validation_data=(x_test,y_test),\n",
    "            callbacks=callbacks,\n",
    "            shuffle=True)\n",
    "\n",
    "scores=model.evaluate(x_test,y_test,verbose=1)\n",
    "print('Test loss:',scores[0])\n",
    "print('Test Accuracy:',scores[1])\n",
    "\n",
    "model.save('Amazon_preTest_augmentation')"
   ]
  },
  {
   "cell_type": "code",
   "execution_count": 26,
   "metadata": {},
   "outputs": [],
   "source": [
    "import matplotlib.pyplot as plt\n",
    "from sklearn.metrics import classification_report,confusion_matrix\n",
    "from tensorflow.keras.optimizers import RMSprop\n",
    "model.compile(loss='sparse_categorical_crossentropy',\n",
    "              optimizer=RMSprop(lr=0.001),\n",
    "              metrics=['accuracy'])"
   ]
  },
  {
   "cell_type": "code",
   "execution_count": 27,
   "metadata": {},
   "outputs": [],
   "source": [
    "checkpoint=ModelCheckpoint(\"C:\\\\Users\\\\mt110\\\\ipynb\\\\amazonrmspropcrappedimages.h5\",\n",
    "                        monitor='val_loss',mode='min',\n",
    "                        save_best_only=True,\n",
    "                        verbose=1)\n",
    "earlystop=EarlyStopping(monitor='val_loss',\n",
    "                        patience=3,\n",
    "                        verbose=1)\n",
    "reduce_lr=ReduceLROnPlateau(monitor='val_loss',min_delta=0.0001,\n",
    "                        factor=0.2,\n",
    "                        patience=3,\n",
    "                        verbose=1)\n",
    "\n",
    "callbacks=[checkpoint,earlystop,reduce_lr]"
   ]
  },
  {
   "cell_type": "code",
   "execution_count": 28,
   "metadata": {},
   "outputs": [
    {
     "name": "stdout",
     "output_type": "stream",
     "text": [
      "Train on 200 samples, validate on 60 samples\n",
      "Epoch 1/20\n",
      "192/200 [===========================>..] - ETA: 0s - loss: 0.0000e+00 - acc: 1.0000\n",
      "Epoch 00001: val_loss improved from inf to 0.00000, saving model to C:\\Users\\mt110\\ipynb\\amazonrmspropcrappedimages.h5\n",
      "200/200 [==============================] - 7s 35ms/sample - loss: 0.0000e+00 - acc: 1.0000 - val_loss: 0.0000e+00 - val_acc: 1.0000\n",
      "Epoch 2/20\n",
      "192/200 [===========================>..] - ETA: 0s - loss: 0.0000e+00 - acc: 1.0000\n",
      "Epoch 00002: val_loss did not improve from 0.00000\n",
      "200/200 [==============================] - 8s 39ms/sample - loss: 0.0000e+00 - acc: 1.0000 - val_loss: 0.0000e+00 - val_acc: 1.0000\n",
      "Epoch 3/20\n",
      "192/200 [===========================>..] - ETA: 0s - loss: 0.0000e+00 - acc: 1.0000\n",
      "Epoch 00003: val_loss did not improve from 0.00000\n",
      "200/200 [==============================] - 6s 30ms/sample - loss: 0.0000e+00 - acc: 1.0000 - val_loss: 0.0000e+00 - val_acc: 1.0000\n",
      "Epoch 4/20\n",
      "192/200 [===========================>..] - ETA: 0s - loss: 0.0000e+00 - acc: 1.0000\n",
      "Epoch 00004: val_loss did not improve from 0.00000\n",
      "\n",
      "Epoch 00004: ReduceLROnPlateau reducing learning rate to 0.00020000000949949026.\n",
      "200/200 [==============================] - 8s 41ms/sample - loss: 0.0000e+00 - acc: 1.0000 - val_loss: 0.0000e+00 - val_acc: 1.0000\n",
      "Epoch 00004: early stopping\n",
      "60/60 [==============================] - 1s 10ms/sample - loss: 0.0000e+00 - acc: 1.0000\n",
      "Test loss: 0.0\n",
      "Test Accuracy: 1.0\n"
     ]
    }
   ],
   "source": [
    "history=model.fit(x_train,y_train,\n",
    "            batch_size=batch_size,\n",
    "            epochs=epochs,\n",
    "            validation_data=(x_test,y_test),\n",
    "            callbacks=callbacks,\n",
    "            shuffle=True)\n",
    "\n",
    "scores=model.evaluate(x_test,y_test,verbose=1)\n",
    "print('Test loss:',scores[0])\n",
    "print('Test Accuracy:',scores[1])\n",
    "\n",
    "model.save('Amazon_preTest_augmentation')"
   ]
  },
  {
   "cell_type": "code",
   "execution_count": 29,
   "metadata": {},
   "outputs": [],
   "source": [
    "from tensorflow.keras.optimizers import Nadam\n",
    "model.compile(loss='sparse_categorical_crossentropy',\n",
    "              optimizer=Nadam(lr=0.001,schedule_decay=0.004),\n",
    "              metrics=['accuracy'])"
   ]
  },
  {
   "cell_type": "code",
   "execution_count": 30,
   "metadata": {},
   "outputs": [],
   "source": [
    "checkpoint=ModelCheckpoint(\".\\\\ipynb\\\\amazonndamscrappedimages.h5\",\n",
    "                        monitor='val_loss',mode='min',\n",
    "                        save_best_only=True,\n",
    "                        verbose=1)\n",
    "earlystop=EarlyStopping(monitor='val_loss',\n",
    "                        patience=3,\n",
    "                        verbose=1)\n",
    "reduce_lr=ReduceLROnPlateau(monitor='val_loss',min_delta=0.0001,\n",
    "                        factor=0.2,\n",
    "                        patience=3,\n",
    "                        verbose=1)\n",
    "\n",
    "callbacks=[checkpoint,earlystop,reduce_lr]"
   ]
  },
  {
   "cell_type": "code",
   "execution_count": 31,
   "metadata": {},
   "outputs": [
    {
     "name": "stdout",
     "output_type": "stream",
     "text": [
      "Train on 200 samples, validate on 60 samples\n",
      "Epoch 1/20\n",
      "192/200 [===========================>..] - ETA: 0s - loss: 0.0000e+00 - acc: 1.0000\n",
      "Epoch 00001: val_loss improved from inf to 0.00000, saving model to .\\ipynb\\amazonndamscrappedimages.h5\n",
      "200/200 [==============================] - 7s 37ms/sample - loss: 0.0000e+00 - acc: 1.0000 - val_loss: 0.0000e+00 - val_acc: 1.0000\n",
      "Epoch 2/20\n",
      "192/200 [===========================>..] - ETA: 0s - loss: 0.0000e+00 - acc: 1.0000\n",
      "Epoch 00002: val_loss did not improve from 0.00000\n",
      "200/200 [==============================] - 6s 28ms/sample - loss: 0.0000e+00 - acc: 1.0000 - val_loss: 0.0000e+00 - val_acc: 1.0000\n",
      "Epoch 3/20\n",
      "192/200 [===========================>..] - ETA: 0s - loss: 0.0000e+00 - acc: 1.0000\n",
      "Epoch 00003: val_loss did not improve from 0.00000\n",
      "200/200 [==============================] - 6s 28ms/sample - loss: 0.0000e+00 - acc: 1.0000 - val_loss: 0.0000e+00 - val_acc: 1.0000\n",
      "Epoch 4/20\n",
      "192/200 [===========================>..] - ETA: 0s - loss: 0.0000e+00 - acc: 1.0000\n",
      "Epoch 00004: val_loss did not improve from 0.00000\n",
      "\n",
      "Epoch 00004: ReduceLROnPlateau reducing learning rate to 0.00020000000949949026.\n",
      "200/200 [==============================] - 6s 30ms/sample - loss: 0.0000e+00 - acc: 1.0000 - val_loss: 0.0000e+00 - val_acc: 1.0000\n",
      "Epoch 00004: early stopping\n",
      "60/60 [==============================] - 0s 7ms/sample - loss: 0.0000e+00 - acc: 1.0000\n",
      "Test loss: 0.0\n",
      "Test Accuracy: 1.0\n"
     ]
    }
   ],
   "source": [
    "history=model.fit(x_train,y_train,\n",
    "            batch_size=batch_size,\n",
    "            epochs=epochs,\n",
    "            validation_data=(x_test,y_test),\n",
    "            callbacks=callbacks,\n",
    "            shuffle=True)\n",
    "\n",
    "scores=model.evaluate(x_test,y_test,verbose=1)\n",
    "print('Test loss:',scores[0])\n",
    "print('Test Accuracy:',scores[1])\n",
    "\n",
    "model.save('Amazon_preTest_augmentation')"
   ]
  },
  {
   "cell_type": "code",
   "execution_count": 32,
   "metadata": {},
   "outputs": [],
   "source": [
    "from tensorflow.keras.optimizers import SGD\n",
    "model.compile(loss='sparse_categorical_crossentropy',\n",
    "              optimizer=SGD(learning_rate=0.001,momentum=0.01,nesterov=False),\n",
    "              metrics=['accuracy'])"
   ]
  },
  {
   "cell_type": "code",
   "execution_count": 33,
   "metadata": {},
   "outputs": [],
   "source": [
    "checkpoint=ModelCheckpoint(\".\\\\ipynb\\\\amazonsgdscrappedimages.h5\",\n",
    "                        monitor='val_loss',mode='min',\n",
    "                        save_best_only=True,\n",
    "                        verbose=1)\n",
    "earlystop=EarlyStopping(monitor='val_loss',\n",
    "                        patience=3,\n",
    "                        verbose=1)\n",
    "reduce_lr=ReduceLROnPlateau(monitor='val_loss',min_delta=0.0001,\n",
    "                        factor=0.2,\n",
    "                        patience=3,\n",
    "                        verbose=1)\n",
    "\n",
    "callbacks=[checkpoint,earlystop,reduce_lr]"
   ]
  },
  {
   "cell_type": "code",
   "execution_count": 34,
   "metadata": {},
   "outputs": [
    {
     "name": "stdout",
     "output_type": "stream",
     "text": [
      "Train on 200 samples, validate on 60 samples\n",
      "Epoch 1/20\n",
      "192/200 [===========================>..] - ETA: 0s - loss: 0.0000e+00 - acc: 1.0000\n",
      "Epoch 00001: val_loss improved from inf to 0.00000, saving model to .\\ipynb\\amazonsgdscrappedimages.h5\n",
      "200/200 [==============================] - 8s 40ms/sample - loss: 0.0000e+00 - acc: 1.0000 - val_loss: 0.0000e+00 - val_acc: 1.0000\n",
      "Epoch 2/20\n",
      "192/200 [===========================>..] - ETA: 0s - loss: 0.0000e+00 - acc: 1.0000\n",
      "Epoch 00002: val_loss did not improve from 0.00000\n",
      "200/200 [==============================] - 7s 35ms/sample - loss: 0.0000e+00 - acc: 1.0000 - val_loss: 0.0000e+00 - val_acc: 1.0000\n",
      "Epoch 3/20\n",
      "192/200 [===========================>..] - ETA: 0s - loss: 0.0000e+00 - acc: 1.0000\n",
      "Epoch 00003: val_loss did not improve from 0.00000\n",
      "200/200 [==============================] - 7s 34ms/sample - loss: 0.0000e+00 - acc: 1.0000 - val_loss: 0.0000e+00 - val_acc: 1.0000\n",
      "Epoch 4/20\n",
      "192/200 [===========================>..] - ETA: 0s - loss: 0.0000e+00 - acc: 1.0000\n",
      "Epoch 00004: val_loss did not improve from 0.00000\n",
      "\n",
      "Epoch 00004: ReduceLROnPlateau reducing learning rate to 0.00020000000949949026.\n",
      "200/200 [==============================] - 7s 37ms/sample - loss: 0.0000e+00 - acc: 1.0000 - val_loss: 0.0000e+00 - val_acc: 1.0000\n",
      "Epoch 00004: early stopping\n",
      "60/60 [==============================] - 0s 8ms/sample - loss: 0.0000e+00 - acc: 1.0000\n",
      "Test loss: 0.0\n",
      "Test Accuracy: 1.0\n"
     ]
    }
   ],
   "source": [
    "history=model.fit(x_train,y_train,\n",
    "            batch_size=batch_size,\n",
    "            epochs=epochs,\n",
    "            validation_data=(x_test,y_test),\n",
    "            callbacks=callbacks,\n",
    "            shuffle=True)\n",
    "\n",
    "scores=model.evaluate(x_test,y_test,verbose=1)\n",
    "print('Test loss:',scores[0])\n",
    "print('Test Accuracy:',scores[1])\n",
    "\n",
    "model.save('Amazon_preTest_augmentation')"
   ]
  },
  {
   "cell_type": "code",
   "execution_count": 35,
   "metadata": {},
   "outputs": [],
   "source": [
    "from tensorflow.keras.optimizers import SGD\n",
    "model.compile(loss='sparse_categorical_crossentropy',\n",
    "              optimizer=SGD(learning_rate=0.001,momentum=0.01,nesterov=True),\n",
    "              metrics=['accuracy'])"
   ]
  },
  {
   "cell_type": "code",
   "execution_count": 36,
   "metadata": {},
   "outputs": [],
   "source": [
    "checkpoint=ModelCheckpoint(\".\\\\ipynb\\\\amazonnesterovscrappedimages.h5\",\n",
    "                        monitor='val_loss',mode='min',\n",
    "                        save_best_only=True,\n",
    "                        verbose=1)\n",
    "earlystop=EarlyStopping(monitor='val_loss',\n",
    "                        patience=3,\n",
    "                        verbose=1)\n",
    "reduce_lr=ReduceLROnPlateau(monitor='val_loss',min_delta=0.0001,\n",
    "                        factor=0.2,\n",
    "                        patience=3,\n",
    "                        verbose=1)\n",
    "\n",
    "callbacks=[checkpoint,earlystop,reduce_lr]"
   ]
  },
  {
   "cell_type": "code",
   "execution_count": 37,
   "metadata": {},
   "outputs": [
    {
     "name": "stdout",
     "output_type": "stream",
     "text": [
      "Train on 200 samples, validate on 60 samples\n",
      "Epoch 1/20\n",
      "192/200 [===========================>..] - ETA: 0s - loss: 0.0000e+00 - acc: 1.0000\n",
      "Epoch 00001: val_loss improved from inf to 0.00000, saving model to .\\ipynb\\amazonnesterovscrappedimages.h5\n",
      "200/200 [==============================] - 7s 35ms/sample - loss: 0.0000e+00 - acc: 1.0000 - val_loss: 0.0000e+00 - val_acc: 1.0000\n",
      "Epoch 2/20\n",
      "192/200 [===========================>..] - ETA: 0s - loss: 0.0000e+00 - acc: 1.0000\n",
      "Epoch 00002: val_loss did not improve from 0.00000\n",
      "200/200 [==============================] - 6s 32ms/sample - loss: 0.0000e+00 - acc: 1.0000 - val_loss: 0.0000e+00 - val_acc: 1.0000\n",
      "Epoch 3/20\n",
      "192/200 [===========================>..] - ETA: 0s - loss: 0.0000e+00 - acc: 1.0000\n",
      "Epoch 00003: val_loss did not improve from 0.00000\n",
      "200/200 [==============================] - 7s 36ms/sample - loss: 0.0000e+00 - acc: 1.0000 - val_loss: 0.0000e+00 - val_acc: 1.0000\n",
      "Epoch 4/20\n",
      "192/200 [===========================>..] - ETA: 0s - loss: 0.0000e+00 - acc: 1.0000\n",
      "Epoch 00004: val_loss did not improve from 0.00000\n",
      "\n",
      "Epoch 00004: ReduceLROnPlateau reducing learning rate to 0.00020000000949949026.\n",
      "200/200 [==============================] - 10s 48ms/sample - loss: 0.0000e+00 - acc: 1.0000 - val_loss: 0.0000e+00 - val_acc: 1.0000\n",
      "Epoch 00004: early stopping\n",
      "60/60 [==============================] - 0s 8ms/sample - loss: 0.0000e+00 - acc: 1.0000\n",
      "Test loss: 0.0\n",
      "Test Accuracy: 1.0\n"
     ]
    }
   ],
   "source": [
    "history=model.fit(x_train,y_train,\n",
    "            batch_size=batch_size,\n",
    "            epochs=epochs,\n",
    "            validation_data=(x_test,y_test),\n",
    "            callbacks=callbacks,\n",
    "            shuffle=True)\n",
    "\n",
    "scores=model.evaluate(x_test,y_test,verbose=1)\n",
    "print('Test loss:',scores[0])\n",
    "print('Test Accuracy:',scores[1])\n",
    "\n",
    "model.save('Amazon_preTest_augmentation')"
   ]
  },
  {
   "cell_type": "code",
   "execution_count": 39,
   "metadata": {},
   "outputs": [
    {
     "name": "stdout",
     "output_type": "stream",
     "text": [
      "1413 images loaded\n"
     ]
    }
   ],
   "source": [
    "from os import listdir\n",
    "from os.path import isfile,join\n",
    "mypath=\"D:\\\\augmented\\\\\"\n",
    "file_names=[f for f in listdir(mypath)if isfile(join(mypath,f))]\n",
    "print(str(len(file_names))+' images loaded')"
   ]
  },
  {
   "cell_type": "code",
   "execution_count": 40,
   "metadata": {},
   "outputs": [],
   "source": [
    "import cv2\n",
    "import numpy as np\n",
    "import sys\n",
    "import os\n",
    "import shutil\n",
    "shirts_count=0\n",
    "tshirts_count=0\n",
    "sarees_count=0\n",
    "training_size=500\n",
    "test_size=100\n",
    "training_images=[]\n",
    "training_labels=[]\n",
    "test_images=[]\n",
    "test_labels=[]\n",
    "size=150\n",
    "shirts_dir_train=\"D:\\\\data\\\\Train\\\\shirts\"\n",
    "tshirts_dir_train=\"D:\\\\data\\Train\\\\tshirts\"\n",
    "sarees_dir_train=\"D:\\\\data\\\\Train\\\\sarees\"\n",
    "shirts_dir_val=\"D:\\\\data\\\\Validation\\shirts\"\n",
    "tshirts_dir_val=\"D:\\\\data\\Validation\\\\tshirts\"\n",
    "sarees_dir_val=\"D:\\\\data\\\\Validation\\\\sarees\"\n",
    "def make_dir(directory):\n",
    "    if os.path.exists(directory):\n",
    "        shutil.rmtree(directory)\n",
    "    os.makedirs(directory)\n",
    "make_dir(shirts_dir_train)\n",
    "make_dir(tshirts_dir_train)\n",
    "make_dir(sarees_dir_train)\n",
    "make_dir(shirts_dir_val)\n",
    "make_dir(tshirts_dir_val)\n",
    "make_dir(sarees_dir_val)\n",
    "def getzeros(number):\n",
    "    if (number> 10 and number<400):\n",
    "        return \"0\"\n",
    "    if (number<10):\n",
    "        return \"00\"\n",
    "    else :\n",
    "        return \"\"\n",
    "for i ,file in enumerate(file_names):\n",
    "    if file_names[i][0]==\"i\":\n",
    "        shirts_count+=1\n",
    "        image=cv2.imread(\"D:\\\\augmented\\\\\"+file)\n",
    "        image=cv2.resize(image,(150,150),cv2.INTER_AREA)\n",
    "        if shirts_count<=training_size:\n",
    "            training_images.append(image)\n",
    "            training_labels.append(1)\n",
    "            zeros=getzeros(shirts_count)\n",
    "            cv2.imwrite(shirts_dir_train+\"shirts\"+str(zeros)+str(shirts_count)+\".jpg\",image)\n",
    "        if shirts_count>training_size and shirts_count<=training_size+test_size:\n",
    "            test_images.append(image)\n",
    "            test_labels.append(1)\n",
    "            zeros=getzeros(shirts_count-400)\n",
    "            cv2.imwrite(shirts_dir_val+\"shirts\"+str(zeros)+str(shirts_count)+\".jpg\",image)\n",
    "    if file_names[i][0]==\"t\":\n",
    "            tshirts_count+=1\n",
    "            image=cv2.imread(\"D:\\\\augmented\\\\\"+file)\n",
    "            image=cv2.resize(image,(150,150),cv2.INTER_AREA)\n",
    "            if tshirts_count<=training_size:\n",
    "                training_images.append(image)\n",
    "                training_labels.append(1)\n",
    "                zeros=getzeros(tshirts_count)\n",
    "                cv2.imwrite(tshirts_dir_train+\"tshirts\"+str(zeros)+str(tshirts_count)+\".jpg\",image)\n",
    "            if tshirts_count>training_size and tshirts_count<=training_size+test_size:\n",
    "                test_images.append(image)\n",
    "                test_labels.append(1)\n",
    "                zeros=getzeros(tshirts_count-400)\n",
    "            cv2.imwrite(tshirts_dir_val+\"tshirts\"+str(zeros)+str(tshirts_count)+\".jpg\",image)\n",
    "    if file_names[i][0]==\"a\":\n",
    "        sarees_count+=1\n",
    "        image=cv2.imread(\"D:\\\\augmented\\\\\"+file)\n",
    "        image=cv2.resize(image,(150,150),cv2.INTER_AREA)\n",
    "        if sarees_count<=training_size:\n",
    "            training_images.append(image)\n",
    "            training_labels.append(1)\n",
    "            zeros=getzeros(shirts_count)\n",
    "            cv2.imwrite(sarees_dir_train+\"sarees\"+str(zeros)+str(sarees_count)+\".jpg\",image)\n",
    "        if sarees_count>training_size and sarees_count<=training_size+test_size:\n",
    "            test_images.append(image)\n",
    "            test_labels.append(1)\n",
    "            zeros=getzeros(shirts_count-400)\n",
    "            cv2.imwrite(sarees_dir_val+\"sarees\"+str(zeros)+str(sarees_count)+\".jpg\",image)\n",
    "    if shirts_count==training_size+test_size and tshirts_count==training_size+test_size and sarees_count==training_size+test_size:\n",
    "        break\n"
   ]
  },
  {
   "cell_type": "code",
   "execution_count": 41,
   "metadata": {},
   "outputs": [],
   "source": [
    "np.savez(\"amazon_augmented_training_data.npz\",np.array(training_images))\n",
    "np.savez(\"amazon_augmented_training_labels.npz\",np.array(training_labels))\n",
    "np.savez(\"amazon_augmented_test_data.npz\",np.array(test_images))\n",
    "np.savez(\"amazon_augmented_test_labels.npz\",np.array(test_labels))\n",
    "\n",
    "\n",
    "         "
   ]
  },
  {
   "cell_type": "code",
   "execution_count": 42,
   "metadata": {},
   "outputs": [],
   "source": [
    "import numpy as np\n",
    "def load_data(datasetname):\n",
    "    npzfile=np.load(\"amazon_augmented_training_data.npz\")\n",
    "    train=npzfile['arr_0']\n",
    "    npzfile=np.load(\"amazon_augmented_training_labels.npz\")\n",
    "    train_labels=npzfile['arr_0']\n",
    "    npzfile=np.load(\"amazon_augmented_test_data.npz\")\n",
    "    test=npzfile['arr_0']\n",
    "    npzfile=np.load(\"amazon_augmented_test_labels.npz\")\n",
    "    test_labels=npzfile['arr_0']\n",
    "    return (train,train_labels),(test,test_labels)  "
   ]
  },
  {
   "cell_type": "code",
   "execution_count": 43,
   "metadata": {},
   "outputs": [
    {
     "name": "stdout",
     "output_type": "stream",
     "text": [
      "1-asaree\n",
      "2-asaree\n",
      "3-asaree\n",
      "4-asaree\n",
      "5-asaree\n",
      "6-asaree\n",
      "7-asaree\n",
      "8-asaree\n",
      "9-asaree\n",
      "10-asaree\n"
     ]
    }
   ],
   "source": [
    "for i in range(1,11):\n",
    "    random=np.random.randint(0,len(training_images))\n",
    "    cv2.imshow(\"image_\"+str(i),training_images[random])\n",
    "    if training_labels[random]==0:\n",
    "        print(str(i)+\"-shirts\")\n",
    "    if training_labels[random]==1:\n",
    "        print(str(i)+\"-asaree\")\n",
    "    else:\n",
    "        print(str(i)+\"-tshirts\")\n",
    "    cv2.waitKey(0)\n",
    "cv2.destroyAllWindows()"
   ]
  },
  {
   "cell_type": "code",
   "execution_count": 44,
   "metadata": {},
   "outputs": [
    {
     "name": "stdout",
     "output_type": "stream",
     "text": [
      "(914, 150, 150, 3)\n",
      "(40, 150, 150, 3)\n",
      "(914, 1)\n",
      "(40, 1)\n"
     ]
    }
   ],
   "source": [
    "(x_train,y_train),(x_test,y_test)=load_data(\"amazonaugmented\")\n",
    "y_train=y_train.reshape(y_train.shape[0],1)\n",
    "y_test=y_test.reshape(y_test.shape[0],1)\n",
    "x_train=x_train.astype(\"float32\")\n",
    "x_test=x_test.astype(\"float32\")\n",
    "x_train/=255\n",
    "x_test/=255\n",
    "print(x_train.shape)\n",
    "print(x_test.shape)\n",
    "print(y_train.shape)\n",
    "print(y_test.shape)\n",
    "      "
   ]
  },
  {
   "cell_type": "code",
   "execution_count": 45,
   "metadata": {},
   "outputs": [
    {
     "name": "stdout",
     "output_type": "stream",
     "text": [
      "Model: \"sequential_1\"\n",
      "_________________________________________________________________\n",
      "Layer (type)                 Output Shape              Param #   \n",
      "=================================================================\n",
      "conv2d_4 (Conv2D)            (None, 148, 148, 32)      896       \n",
      "_________________________________________________________________\n",
      "max_pooling2d_4 (MaxPooling2 (None, 74, 74, 32)        0         \n",
      "_________________________________________________________________\n",
      "dropout_5 (Dropout)          (None, 74, 74, 32)        0         \n",
      "_________________________________________________________________\n",
      "conv2d_5 (Conv2D)            (None, 72, 72, 32)        9248      \n",
      "_________________________________________________________________\n",
      "max_pooling2d_5 (MaxPooling2 (None, 36, 36, 32)        0         \n",
      "_________________________________________________________________\n",
      "dropout_6 (Dropout)          (None, 36, 36, 32)        0         \n",
      "_________________________________________________________________\n",
      "conv2d_6 (Conv2D)            (None, 34, 34, 64)        18496     \n",
      "_________________________________________________________________\n",
      "max_pooling2d_6 (MaxPooling2 (None, 17, 17, 64)        0         \n",
      "_________________________________________________________________\n",
      "dropout_7 (Dropout)          (None, 17, 17, 64)        0         \n",
      "_________________________________________________________________\n",
      "conv2d_7 (Conv2D)            (None, 15, 15, 64)        36928     \n",
      "_________________________________________________________________\n",
      "max_pooling2d_7 (MaxPooling2 (None, 7, 7, 64)          0         \n",
      "_________________________________________________________________\n",
      "dropout_8 (Dropout)          (None, 7, 7, 64)          0         \n",
      "_________________________________________________________________\n",
      "flatten_1 (Flatten)          (None, 3136)              0         \n",
      "_________________________________________________________________\n",
      "dense_2 (Dense)              (None, 128)               401536    \n",
      "_________________________________________________________________\n",
      "dropout_9 (Dropout)          (None, 128)               0         \n",
      "_________________________________________________________________\n",
      "dense_3 (Dense)              (None, 3)                 387       \n",
      "=================================================================\n",
      "Total params: 467,491\n",
      "Trainable params: 467,491\n",
      "Non-trainable params: 0\n",
      "_________________________________________________________________\n",
      "None\n"
     ]
    }
   ],
   "source": [
    "model=Sequential()\n",
    "\n",
    "model.add(Conv2D(32,(3,3),input_shape=input_shape,activation='relu'))\n",
    "model.add(MaxPooling2D(pool_size=(2,2)))\n",
    "model.add(Dropout(0.2))\n",
    "\n",
    "model.add(Conv2D(32,(3,3),activation='relu'))\n",
    "model.add(MaxPooling2D(pool_size=(2,2)))\n",
    "model.add(Dropout(0.2))\n",
    "\n",
    "model.add(Conv2D(64,(3,3),activation='relu'))\n",
    "model.add(MaxPooling2D(pool_size=(2,2)))\n",
    "model.add(Dropout(0.2))\n",
    "\n",
    "model.add(Conv2D(64,(3,3),activation='relu'))\n",
    "model.add(MaxPooling2D(pool_size=(2,2)))\n",
    "model.add(Dropout(0.2))\n",
    "    \n",
    "model.add(Flatten())\n",
    "model.add(Dense(128,activation='relu'))\n",
    "model.add(Dropout(0.2))\n",
    "model.add(Dense(3,activation='softmax'))\n",
    "    \n",
    "print(model.summary())"
   ]
  },
  {
   "cell_type": "code",
   "execution_count": 46,
   "metadata": {},
   "outputs": [
    {
     "data": {
      "image/png": "[encoded data removed]",
      "text/plain": [
       "<IPython.core.display.Image object>"
      ]
     },
     "execution_count": 46,
     "metadata": {},
     "output_type": "execute_result"
    }
   ],
   "source": [
    "os.environ['PATH'] += os.pathsep + 'C:\\Program Files (x86)\\Graphviz2.38/bin/'\n",
    "plot_model(model,show_shapes=True,show_layer_names=True)"
   ]
  },
  {
   "cell_type": "code",
   "execution_count": 47,
   "metadata": {},
   "outputs": [],
   "source": [
    "from tensorflow.keras.optimizers import Adam\n",
    "model.compile(loss='sparse_categorical_crossentropy',\n",
    "              optimizer=Adam(lr=0.001),\n",
    "              metrics=['accuracy'])"
   ]
  },
  {
   "cell_type": "code",
   "execution_count": 48,
   "metadata": {},
   "outputs": [],
   "source": [
    "from tensorflow.keras.callbacks import ModelCheckpoint\n",
    "from tensorflow.keras.callbacks import EarlyStopping\n",
    "from tensorflow.keras.callbacks import ReduceLROnPlateau"
   ]
  },
  {
   "cell_type": "code",
   "execution_count": 49,
   "metadata": {},
   "outputs": [],
   "source": [
    "checkpoint=ModelCheckpoint(\".\\\\ipynb\\\\Amazonaugmentedadam.h5\",\n",
    "                        monitor='val_loss',mode='min',\n",
    "                        save_best_only=True,\n",
    "                        verbose=1)\n",
    "earlystop=EarlyStopping(monitor='val_loss',\n",
    "                        patience=3,\n",
    "                        verbose=1)\n",
    "reduce_lr=ReduceLROnPlateau(monitor='val_loss',min_delta=0.0001,\n",
    "                        factor=0.2,\n",
    "                        patience=3,\n",
    "                        verbose=1)\n",
    "callbacks=[checkpoint,earlystop,reduce_lr]"
   ]
  },
  {
   "cell_type": "code",
   "execution_count": 50,
   "metadata": {},
   "outputs": [
    {
     "name": "stdout",
     "output_type": "stream",
     "text": [
      "Train on 914 samples, validate on 40 samples\n",
      "Epoch 1/20\n",
      "896/914 [============================>.] - ETA: 0s - loss: 0.0525 - acc: 0.9654\n",
      "Epoch 00001: val_loss improved from inf to 0.00000, saving model to .\\ipynb\\Amazonaugmentedadam.h5\n",
      "914/914 [==============================] - 29s 32ms/sample - loss: 0.0514 - acc: 0.9661 - val_loss: 0.0000e+00 - val_acc: 1.0000\n",
      "Epoch 2/20\n",
      "896/914 [============================>.] - ETA: 0s - loss: 0.0000e+00 - acc: 1.0000\n",
      "Epoch 00002: val_loss did not improve from 0.00000\n",
      "914/914 [==============================] - 31s 34ms/sample - loss: 0.0000e+00 - acc: 1.0000 - val_loss: 0.0000e+00 - val_acc: 1.0000\n",
      "Epoch 3/20\n",
      "896/914 [============================>.] - ETA: 0s - loss: 0.0000e+00 - acc: 1.0000\n",
      "Epoch 00003: val_loss did not improve from 0.00000\n",
      "914/914 [==============================] - 30s 33ms/sample - loss: 0.0000e+00 - acc: 1.0000 - val_loss: 0.0000e+00 - val_acc: 1.0000\n",
      "Epoch 4/20\n",
      "896/914 [============================>.] - ETA: 0s - loss: 0.0000e+00 - acc: 1.0000\n",
      "Epoch 00004: val_loss did not improve from 0.00000\n",
      "\n",
      "Epoch 00004: ReduceLROnPlateau reducing learning rate to 0.00020000000949949026.\n",
      "914/914 [==============================] - 31s 34ms/sample - loss: 0.0000e+00 - acc: 1.0000 - val_loss: 0.0000e+00 - val_acc: 1.0000\n",
      "Epoch 00004: early stopping\n",
      "40/40 [==============================] - 0s 8ms/sample - loss: 0.0000e+00 - acc: 1.0000\n",
      "Test loss: 0.0\n",
      "Test Accuracy: 1.0\n"
     ]
    }
   ],
   "source": [
    "history=model.fit(x_train,y_train,\n",
    "            batch_size=batch_size,\n",
    "            epochs=epochs,\n",
    "            validation_data=(x_test,y_test),\n",
    "            callbacks=callbacks,\n",
    "            shuffle=True)\n",
    "\n",
    "scores=model.evaluate(x_test,y_test,verbose=1)\n",
    "print('Test loss:',scores[0])\n",
    "print('Test Accuracy:',scores[1])\n",
    "\n",
    "model.save('Amazon_preTest_augmentation')"
   ]
  },
  {
   "cell_type": "code",
   "execution_count": 51,
   "metadata": {},
   "outputs": [],
   "source": [
    "import matplotlib.pyplot as plt\n",
    "from sklearn.metrics import classification_report,confusion_matrix\n"
   ]
  },
  {
   "cell_type": "code",
   "execution_count": 52,
   "metadata": {},
   "outputs": [],
   "source": [
    "from tensorflow.keras.optimizers import RMSprop\n",
    "model.compile(loss='sparse_categorical_crossentropy',\n",
    "              optimizer=RMSprop(lr=0.001),\n",
    "              metrics=['accuracy'])"
   ]
  },
  {
   "cell_type": "code",
   "execution_count": 53,
   "metadata": {},
   "outputs": [],
   "source": [
    "checkpoint=ModelCheckpoint(\".\\\\ipynb\\\\Amazonaugmentedrmsprop.h5\",\n",
    "                        monitor='val_loss',mode='min',\n",
    "                        save_best_only=True,\n",
    "                        verbose=1)\n",
    "earlystop=EarlyStopping(monitor='val_loss',\n",
    "                        patience=3,\n",
    "                        verbose=1)\n",
    "reduce_lr=ReduceLROnPlateau(monitor='val_loss',min_delta=0.0001,\n",
    "                        factor=0.2,\n",
    "                        patience=3,\n",
    "                        verbose=1)\n",
    "\n",
    "callbacks=[checkpoint,earlystop,reduce_lr]"
   ]
  },
  {
   "cell_type": "code",
   "execution_count": 54,
   "metadata": {},
   "outputs": [
    {
     "name": "stdout",
     "output_type": "stream",
     "text": [
      "Train on 914 samples, validate on 40 samples\n",
      "Epoch 1/20\n",
      "896/914 [============================>.] - ETA: 0s - loss: 0.0000e+00 - acc: 1.0000\n",
      "Epoch 00001: val_loss improved from inf to 0.00000, saving model to .\\ipynb\\Amazonaugmentedrmsprop.h5\n",
      "914/914 [==============================] - 33s 36ms/sample - loss: 0.0000e+00 - acc: 1.0000 - val_loss: 0.0000e+00 - val_acc: 1.0000\n",
      "Epoch 2/20\n",
      "896/914 [============================>.] - ETA: 0s - loss: 0.0000e+00 - acc: 1.0000\n",
      "Epoch 00002: val_loss did not improve from 0.00000\n",
      "914/914 [==============================] - 31s 33ms/sample - loss: 0.0000e+00 - acc: 1.0000 - val_loss: 0.0000e+00 - val_acc: 1.0000\n",
      "Epoch 3/20\n",
      "896/914 [============================>.] - ETA: 0s - loss: 0.0000e+00 - acc: 1.0000\n",
      "Epoch 00003: val_loss did not improve from 0.00000\n",
      "914/914 [==============================] - 31s 34ms/sample - loss: 0.0000e+00 - acc: 1.0000 - val_loss: 0.0000e+00 - val_acc: 1.0000\n",
      "Epoch 4/20\n",
      "896/914 [============================>.] - ETA: 0s - loss: 0.0000e+00 - acc: 1.0000\n",
      "Epoch 00004: val_loss did not improve from 0.00000\n",
      "\n",
      "Epoch 00004: ReduceLROnPlateau reducing learning rate to 0.00020000000949949026.\n",
      "914/914 [==============================] - 31s 34ms/sample - loss: 0.0000e+00 - acc: 1.0000 - val_loss: 0.0000e+00 - val_acc: 1.0000\n",
      "Epoch 00004: early stopping\n",
      "40/40 [==============================] - 0s 8ms/sample - loss: 0.0000e+00 - acc: 1.0000\n",
      "Test loss: 0.0\n",
      "Test Accuracy: 1.0\n"
     ]
    }
   ],
   "source": [
    "history=model.fit(x_train,y_train,\n",
    "            batch_size=batch_size,\n",
    "            epochs=epochs,\n",
    "            validation_data=(x_test,y_test),\n",
    "            callbacks=callbacks,\n",
    "            shuffle=True)\n",
    "\n",
    "scores=model.evaluate(x_test,y_test,verbose=1)\n",
    "print('Test loss:',scores[0])\n",
    "print('Test Accuracy:',scores[1])\n",
    "\n",
    "model.save('Amazon_preTest_augmentation')"
   ]
  },
  {
   "cell_type": "code",
   "execution_count": 55,
   "metadata": {},
   "outputs": [],
   "source": [
    "from tensorflow.keras.optimizers import Nadam\n",
    "model.compile(loss='sparse_categorical_crossentropy',\n",
    "              optimizer=Nadam(lr=0.001,schedule_decay=0.004),\n",
    "              metrics=['accuracy'])"
   ]
  },
  {
   "cell_type": "code",
   "execution_count": 56,
   "metadata": {},
   "outputs": [],
   "source": [
    "checkpoint=ModelCheckpoint(\".\\\\ipynb\\\\Amazonaugmentednadam.h5\",\n",
    "                        monitor='val_loss',mode='min',\n",
    "                        save_best_only=True,\n",
    "                        verbose=1)\n",
    "earlystop=EarlyStopping(monitor='val_loss',\n",
    "                        patience=3,\n",
    "                        verbose=1)\n",
    "reduce_lr=ReduceLROnPlateau(monitor='val_loss',min_delta=0.0001,\n",
    "                        factor=0.2,\n",
    "                        patience=3,\n",
    "                        verbose=1)\n",
    "\n",
    "callbacks=[checkpoint,earlystop,reduce_lr]"
   ]
  },
  {
   "cell_type": "code",
   "execution_count": 57,
   "metadata": {},
   "outputs": [
    {
     "name": "stdout",
     "output_type": "stream",
     "text": [
      "Train on 914 samples, validate on 40 samples\n",
      "Epoch 1/20\n",
      "896/914 [============================>.] - ETA: 0s - loss: 0.0000e+00 - acc: 1.0000\n",
      "Epoch 00001: val_loss improved from inf to 0.00000, saving model to .\\ipynb\\Amazonaugmentednadam.h5\n",
      "914/914 [==============================] - 34s 37ms/sample - loss: 0.0000e+00 - acc: 1.0000 - val_loss: 0.0000e+00 - val_acc: 1.0000\n",
      "Epoch 2/20\n",
      "896/914 [============================>.] - ETA: 0s - loss: 0.0000e+00 - acc: 1.0000\n",
      "Epoch 00002: val_loss did not improve from 0.00000\n",
      "914/914 [==============================] - 32s 35ms/sample - loss: 0.0000e+00 - acc: 1.0000 - val_loss: 0.0000e+00 - val_acc: 1.0000\n",
      "Epoch 3/20\n",
      "896/914 [============================>.] - ETA: 0s - loss: 0.0000e+00 - acc: 1.0000\n",
      "Epoch 00003: val_loss did not improve from 0.00000\n",
      "914/914 [==============================] - 31s 34ms/sample - loss: 0.0000e+00 - acc: 1.0000 - val_loss: 0.0000e+00 - val_acc: 1.0000\n",
      "Epoch 4/20\n",
      "896/914 [============================>.] - ETA: 0s - loss: 0.0000e+00 - acc: 1.0000\n",
      "Epoch 00004: val_loss did not improve from 0.00000\n",
      "\n",
      "Epoch 00004: ReduceLROnPlateau reducing learning rate to 0.00020000000949949026.\n",
      "914/914 [==============================] - 30s 33ms/sample - loss: 0.0000e+00 - acc: 1.0000 - val_loss: 0.0000e+00 - val_acc: 1.0000\n",
      "Epoch 00004: early stopping\n",
      "40/40 [==============================] - 0s 8ms/sample - loss: 0.0000e+00 - acc: 1.0000\n",
      "Test loss: 0.0\n",
      "Test Accuracy: 1.0\n"
     ]
    }
   ],
   "source": [
    "history=model.fit(x_train,y_train,\n",
    "            batch_size=batch_size,\n",
    "            epochs=epochs,\n",
    "            validation_data=(x_test,y_test),\n",
    "            callbacks=callbacks,\n",
    "            shuffle=True)\n",
    "\n",
    "scores=model.evaluate(x_test,y_test,verbose=1)\n",
    "print('Test loss:',scores[0])\n",
    "print('Test Accuracy:',scores[1])\n",
    "\n",
    "model.save('Amazon_preTest_augmentation')"
   ]
  },
  {
   "cell_type": "code",
   "execution_count": 58,
   "metadata": {},
   "outputs": [],
   "source": [
    "from tensorflow.keras.optimizers import SGD\n",
    "model.compile(loss='sparse_categorical_crossentropy',\n",
    "              optimizer=SGD(learning_rate=0.001,momentum=0.01,nesterov=False),\n",
    "              metrics=['accuracy'])"
   ]
  },
  {
   "cell_type": "code",
   "execution_count": 59,
   "metadata": {},
   "outputs": [],
   "source": [
    "checkpoint=ModelCheckpoint(\".\\\\ipynb\\\\Amazonaugmentedsgd.h5\",\n",
    "                        monitor='val_loss',mode='min',\n",
    "                        save_best_only=True,\n",
    "                        verbose=1)\n",
    "earlystop=EarlyStopping(monitor='val_loss',\n",
    "                        patience=3,\n",
    "                        verbose=1)\n",
    "reduce_lr=ReduceLROnPlateau(monitor='val_loss',min_delta=0.0001,\n",
    "                        factor=0.2,\n",
    "                        patience=3,\n",
    "                        verbose=1)\n",
    "\n",
    "callbacks=[checkpoint,earlystop,reduce_lr]"
   ]
  },
  {
   "cell_type": "code",
   "execution_count": 60,
   "metadata": {},
   "outputs": [
    {
     "name": "stdout",
     "output_type": "stream",
     "text": [
      "Train on 914 samples, validate on 40 samples\n",
      "Epoch 1/20\n",
      "896/914 [============================>.] - ETA: 0s - loss: 0.0000e+00 - acc: 1.0000\n",
      "Epoch 00001: val_loss improved from inf to 0.00000, saving model to .\\ipynb\\Amazonaugmentedsgd.h5\n",
      "914/914 [==============================] - 31s 34ms/sample - loss: 0.0000e+00 - acc: 1.0000 - val_loss: 0.0000e+00 - val_acc: 1.0000\n",
      "Epoch 2/20\n",
      "896/914 [============================>.] - ETA: 0s - loss: 0.0000e+00 - acc: 1.0000\n",
      "Epoch 00002: val_loss did not improve from 0.00000\n",
      "914/914 [==============================] - 30s 33ms/sample - loss: 0.0000e+00 - acc: 1.0000 - val_loss: 0.0000e+00 - val_acc: 1.0000\n",
      "Epoch 3/20\n",
      "896/914 [============================>.] - ETA: 0s - loss: 0.0000e+00 - acc: 1.0000\n",
      "Epoch 00003: val_loss did not improve from 0.00000\n",
      "914/914 [==============================] - 37s 40ms/sample - loss: 0.0000e+00 - acc: 1.0000 - val_loss: 0.0000e+00 - val_acc: 1.0000\n",
      "Epoch 4/20\n",
      "896/914 [============================>.] - ETA: 0s - loss: 0.0000e+00 - acc: 1.0000\n",
      "Epoch 00004: val_loss did not improve from 0.00000\n",
      "\n",
      "Epoch 00004: ReduceLROnPlateau reducing learning rate to 0.00020000000949949026.\n",
      "914/914 [==============================] - 29s 32ms/sample - loss: 0.0000e+00 - acc: 1.0000 - val_loss: 0.0000e+00 - val_acc: 1.0000\n",
      "Epoch 00004: early stopping\n",
      "40/40 [==============================] - 0s 9ms/sample - loss: 0.0000e+00 - acc: 1.0000\n",
      "Test loss: 0.0\n",
      "Test Accuracy: 1.0\n"
     ]
    }
   ],
   "source": [
    "history=model.fit(x_train,y_train,\n",
    "            batch_size=batch_size,\n",
    "            epochs=epochs,\n",
    "            validation_data=(x_test,y_test),\n",
    "            callbacks=callbacks,\n",
    "            shuffle=True)\n",
    "\n",
    "scores=model.evaluate(x_test,y_test,verbose=1)\n",
    "print('Test loss:',scores[0])\n",
    "print('Test Accuracy:',scores[1])\n",
    "\n",
    "model.save('Amazon_preTest_augmentation')"
   ]
  },
  {
   "cell_type": "code",
   "execution_count": 61,
   "metadata": {},
   "outputs": [],
   "source": [
    "from tensorflow.keras.optimizers import SGD\n",
    "model.compile(loss='sparse_categorical_crossentropy',\n",
    "              optimizer=SGD(learning_rate=0.001,momentum=0.01,nesterov=True),\n",
    "              metrics=['accuracy'])"
   ]
  },
  {
   "cell_type": "code",
   "execution_count": 62,
   "metadata": {},
   "outputs": [],
   "source": [
    "checkpoint=ModelCheckpoint(\".\\\\ipynb\\\\Amazonaugmentedsgdnesterov.h5\",\n",
    "                        monitor='val_loss',mode='min',\n",
    "                        save_best_only=True,\n",
    "                        verbose=1)\n",
    "earlystop=EarlyStopping(monitor='val_loss',\n",
    "                        patience=3,\n",
    "                        verbose=1)\n",
    "reduce_lr=ReduceLROnPlateau(monitor='val_loss',min_delta=0.0001,\n",
    "                        factor=0.2,\n",
    "                        patience=3,\n",
    "                        verbose=1)\n",
    "\n",
    "callbacks=[checkpoint,earlystop,reduce_lr]"
   ]
  },
  {
   "cell_type": "code",
   "execution_count": 63,
   "metadata": {},
   "outputs": [
    {
     "name": "stdout",
     "output_type": "stream",
     "text": [
      "Train on 914 samples, validate on 40 samples\n",
      "Epoch 1/20\n",
      "896/914 [============================>.] - ETA: 0s - loss: 0.0000e+00 - acc: 1.0000\n",
      "Epoch 00001: val_loss improved from inf to 0.00000, saving model to .\\ipynb\\Amazonaugmentedsgdnesterov.h5\n",
      "914/914 [==============================] - 34s 37ms/sample - loss: 0.0000e+00 - acc: 1.0000 - val_loss: 0.0000e+00 - val_acc: 1.0000\n",
      "Epoch 2/20\n",
      "896/914 [============================>.] - ETA: 0s - loss: 0.0000e+00 - acc: 1.0000\n",
      "Epoch 00002: val_loss did not improve from 0.00000\n",
      "914/914 [==============================] - 34s 37ms/sample - loss: 0.0000e+00 - acc: 1.0000 - val_loss: 0.0000e+00 - val_acc: 1.0000\n",
      "Epoch 3/20\n",
      "896/914 [============================>.] - ETA: 0s - loss: 0.0000e+00 - acc: 1.0000\n",
      "Epoch 00003: val_loss did not improve from 0.00000\n",
      "914/914 [==============================] - 32s 35ms/sample - loss: 0.0000e+00 - acc: 1.0000 - val_loss: 0.0000e+00 - val_acc: 1.0000\n",
      "Epoch 4/20\n",
      "896/914 [============================>.] - ETA: 0s - loss: 0.0000e+00 - acc: 1.0000\n",
      "Epoch 00004: val_loss did not improve from 0.00000\n",
      "\n",
      "Epoch 00004: ReduceLROnPlateau reducing learning rate to 0.00020000000949949026.\n",
      "914/914 [==============================] - 31s 34ms/sample - loss: 0.0000e+00 - acc: 1.0000 - val_loss: 0.0000e+00 - val_acc: 1.0000\n",
      "Epoch 00004: early stopping\n",
      "40/40 [==============================] - 0s 8ms/sample - loss: 0.0000e+00 - acc: 1.0000\n",
      "Test loss: 0.0\n",
      "Test Accuracy: 1.0\n"
     ]
    }
   ],
   "source": [
    "history=model.fit(x_train,y_train,\n",
    "            batch_size=batch_size,\n",
    "            epochs=epochs,\n",
    "            validation_data=(x_test,y_test),\n",
    "            callbacks=callbacks,\n",
    "            shuffle=True)\n",
    "\n",
    "scores=model.evaluate(x_test,y_test,verbose=1)\n",
    "print('Test loss:',scores[0])\n",
    "print('Test Accuracy:',scores[1])\n",
    "\n",
    "model.save('Amazon_preTest_augmentation')"
   ]
  }
 ],
 "metadata": {
  "kernelspec": {
   "display_name": "Python 3",
   "language": "python",
   "name": "python3"
  },
  "language_info": {
   "codemirror_mode": {
    "name": "ipython",
    "version": 3
   },
   "file_extension": ".py",
   "mimetype": "text/x-python",
   "name": "python",
   "nbconvert_exporter": "python",
   "pygments_lexer": "ipython3",
   "version": "3.6.10"
  }
 },
 "nbformat": 4,
 "nbformat_minor": 4
}
